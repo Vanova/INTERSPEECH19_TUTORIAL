{
 "cells": [
  {
   "cell_type": "markdown",
   "metadata": {
    "slideshow": {
     "slide_type": "slide"
    }
   },
   "source": [
    "<img src=\"sprocket_png/image0001.png\" width=85%>"
   ]
  },
  {
   "cell_type": "markdown",
   "metadata": {
    "slideshow": {
     "slide_type": "slide"
    }
   },
   "source": [
    "<div align=\"center\">\n",
    "<img src=\"sprocket_png/image0002.png\" width=85%>\n",
    "<div align=\"center\">"
   ]
  },
  {
   "cell_type": "markdown",
   "metadata": {
    "slideshow": {
     "slide_type": "slide"
    }
   },
   "source": [
    "<div align=\"center\">\n",
    "<img src=\"sprocket_png/image0003.png\" width=85%>\n",
    "<div align=\"center\">"
   ]
  },
  {
   "cell_type": "markdown",
   "metadata": {
    "slideshow": {
     "slide_type": "slide"
    }
   },
   "source": [
    "<div align=\"center\">\n",
    "<img src=\"sprocket_png/image0004.png\" width=85%>\n",
    "<div align=\"center\">"
   ]
  },
  {
   "cell_type": "markdown",
   "metadata": {
    "slideshow": {
     "slide_type": "slide"
    }
   },
   "source": [
    "<div align=\"center\">\n",
    "<img src=\"sprocket_png/image0005.png\" width=85%>\n",
    "<div align=\"center\">"
   ]
  },
  {
   "cell_type": "markdown",
   "metadata": {
    "slideshow": {
     "slide_type": "slide"
    }
   },
   "source": [
    "<div align=\"center\">\n",
    "<img src=\"sprocket_png/image0006.png\" width=85%>\n",
    "<div align=\"center\">"
   ]
  },
  {
   "cell_type": "code",
   "execution_count": null,
   "metadata": {
    "slideshow": {
     "slide_type": "slide"
    }
   },
   "outputs": [],
   "source": [
    "!echo \"hogehoge\"\n",
    "!ls\n",
    "!find ."
   ]
  },
  {
   "cell_type": "markdown",
   "metadata": {
    "slideshow": {
     "slide_type": "slide"
    }
   },
   "source": [
    "<div align=\"center\">\n",
    "<img src=\"sprocket_png/image0007.png\" width=85%>\n",
    "<div align=\"center\">"
   ]
  },
  {
   "cell_type": "markdown",
   "metadata": {
    "slideshow": {
     "slide_type": "slide"
    }
   },
   "source": [
    "<div align=\"center\">\n",
    "<img src=\"sprocket_png/image0008.png\" width=85%>\n",
    "<div align=\"center\">"
   ]
  },
  {
   "cell_type": "markdown",
   "metadata": {
    "slideshow": {
     "slide_type": "slide"
    }
   },
   "source": [
    "<div align=\"center\">\n",
    "<img src=\"sprocket_png/image0009.png\" width=85%>\n",
    "<div align=\"center\">"
   ]
  },
  {
   "cell_type": "markdown",
   "metadata": {
    "slideshow": {
     "slide_type": "slide"
    }
   },
   "source": [
    "<div align=\"center\">\n",
    "<img src=\"sprocket_png/image0010.png\" width=85%>\n",
    "<div align=\"center\">"
   ]
  },
  {
   "cell_type": "markdown",
   "metadata": {
    "slideshow": {
     "slide_type": "slide"
    }
   },
   "source": [
    "<div align=\"center\">\n",
    "<img src=\"sprocket_png/image0011.png\" width=85%>\n",
    "<div align=\"center\">"
   ]
  },
  {
   "cell_type": "markdown",
   "metadata": {
    "slideshow": {
     "slide_type": "slide"
    }
   },
   "source": [
    "<div align=\"center\">\n",
    "<img src=\"sprocket_png/image0012.png\" width=85%>\n",
    "<div align=\"center\">"
   ]
  },
  {
   "cell_type": "markdown",
   "metadata": {
    "slideshow": {
     "slide_type": "slide"
    }
   },
   "source": [
    "<div align=\"center\">\n",
    "<img src=\"sprocket_png/image0013.png\" width=85%>\n",
    "<div align=\"center\">"
   ]
  },
  {
   "cell_type": "markdown",
   "metadata": {
    "slideshow": {
     "slide_type": "slide"
    }
   },
   "source": [
    "<div align=\"center\">\n",
    "<img src=\"sprocket_png/image0014.png\" width=85%>\n",
    "<div align=\"center\">"
   ]
  },
  {
   "cell_type": "markdown",
   "metadata": {
    "slideshow": {
     "slide_type": "slide"
    }
   },
   "source": [
    "<div align=\"center\">\n",
    "<img src=\"sprocket_png/image0015.png\" width=85%>\n",
    "<div align=\"center\">"
   ]
  },
  {
   "cell_type": "markdown",
   "metadata": {
    "slideshow": {
     "slide_type": "slide"
    }
   },
   "source": [
    "<div align=\"center\">\n",
    "<img src=\"sprocket_png/image0016.png\" width=85%>\n",
    "<div align=\"center\">"
   ]
  },
  {
   "cell_type": "markdown",
   "metadata": {
    "slideshow": {
     "slide_type": "slide"
    }
   },
   "source": [
    "<div align=\"center\">\n",
    "<img src=\"sprocket_png/image0017.png\" width=85%>\n",
    "<div align=\"center\">"
   ]
  },
  {
   "cell_type": "markdown",
   "metadata": {
    "slideshow": {
     "slide_type": "slide"
    }
   },
   "source": [
    "<div align=\"center\">\n",
    "<img src=\"sprocket_png/image0018.png\" width=85%>\n",
    "<div align=\"center\">"
   ]
  },
  {
   "cell_type": "markdown",
   "metadata": {
    "slideshow": {
     "slide_type": "slide"
    }
   },
   "source": [
    "<div align=\"center\">\n",
    "<img src=\"sprocket_png/image0019.png\" width=85%>\n",
    "<div align=\"center\">"
   ]
  },
  {
   "cell_type": "markdown",
   "metadata": {
    "slideshow": {
     "slide_type": "slide"
    }
   },
   "source": [
    "<div align=\"center\">\n",
    "<img src=\"sprocket_png/image0020.png\" width=85%>\n",
    "<div align=\"center\">"
   ]
  },
  {
   "cell_type": "markdown",
   "metadata": {
    "slideshow": {
     "slide_type": "slide"
    }
   },
   "source": [
    "# Step 0: Setup\n",
    "- Print Python3 version and path"
   ]
  },
  {
   "cell_type": "code",
   "execution_count": null,
   "metadata": {
    "colab": {
     "base_uri": "https://localhost:8080/",
     "height": 34
    },
    "colab_type": "code",
    "executionInfo": {
     "elapsed": 38718,
     "status": "ok",
     "timestamp": 1566259579374,
     "user": {
      "displayName": "Kazuhiro Kobayashi",
      "photoUrl": "",
      "userId": "07649292297537623984"
     },
     "user_tz": -540
    },
    "id": "ILk9Kg9yTl-Q",
    "outputId": "dcf9cbd1-e0b7-4b1c-ba43-891ea2d43e16",
    "slideshow": {
     "slide_type": "-"
    }
   },
   "outputs": [],
   "source": [
    "!python -V\n",
    "!which python3"
   ]
  },
  {
   "cell_type": "markdown",
   "metadata": {
    "slideshow": {
     "slide_type": "slide"
    }
   },
   "source": [
    "## Install Python3 dependencies"
   ]
  },
  {
   "cell_type": "code",
   "execution_count": null,
   "metadata": {
    "jupyter": {
     "outputs_hidden": true
    },
    "slideshow": {
     "slide_type": "-"
    }
   },
   "outputs": [],
   "source": [
    "!pip3 install -Uq pip\n",
    "!pip3 install -q sprocket-vc\n",
    "!echo \"Done.\""
   ]
  },
  {
   "cell_type": "markdown",
   "metadata": {
    "colab_type": "text",
    "id": "E77tnLMiUK2o",
    "slideshow": {
     "slide_type": "slide"
    }
   },
   "source": [
    "## Clone sprocket example"
   ]
  },
  {
   "cell_type": "code",
   "execution_count": null,
   "metadata": {
    "colab": {
     "base_uri": "https://localhost:8080/",
     "height": 34
    },
    "colab_type": "code",
    "executionInfo": {
     "elapsed": 8327,
     "status": "ok",
     "timestamp": 1566260056250,
     "user": {
      "displayName": "Kazuhiro Kobayashi",
      "photoUrl": "",
      "userId": "07649292297537623984"
     },
     "user_tz": -540
    },
    "id": "I4cTFE75UMJ6",
    "jupyter": {
     "outputs_hidden": true
    },
    "outputId": "3f482a5c-49c1-4ff7-cb86-0647521efdcd"
   },
   "outputs": [],
   "source": [
    "!git clone https://github.com/k2kobayashi/sprocket.git\n",
    "!pwd\n",
    "import os\n",
    "egs_dir = os.getcwd() + \"/sprocket/example\"\n",
    "os.chdir(egs_dir)\n",
    "!ls"
   ]
  },
  {
   "cell_type": "markdown",
   "metadata": {
    "colab_type": "text",
    "id": "WzbTrLCQT2uY",
    "slideshow": {
     "slide_type": "slide"
    }
   },
   "source": [
    "## Download Voice Conversion Challenge 2018 dataset "
   ]
  },
  {
   "cell_type": "code",
   "execution_count": null,
   "metadata": {
    "colab": {
     "base_uri": "https://localhost:8080/",
     "height": 547
    },
    "colab_type": "code",
    "executionInfo": {
     "elapsed": 633228,
     "status": "ok",
     "timestamp": 1566260750371,
     "user": {
      "displayName": "Kazuhiro Kobayashi",
      "photoUrl": "",
      "userId": "07649292297537623984"
     },
     "user_tz": -540
    },
    "id": "IHqlbCI1T5HV",
    "jupyter": {
     "outputs_hidden": true
    },
    "outputId": "b3f302be-b593-4579-f760-c367f542f87a"
   },
   "outputs": [],
   "source": [
    "# Download subset of VCC2018 dataset for this tutorial \n",
    "!wget -q \"https://drive.google.com/a/g.sp.m.is.nagoya-u.ac.jp/uc?authuser=1&id=1Gl5RjovvueMiB7XoUZsrvnBOZLiC23EU&export=download\" -O wav.tar.gz\n",
    "!tar zxf wav.tar.gz -C data\n",
    "!tree -L 2 data/wav\n",
    "\n",
    "# Downlaod fullset of VCC2018 dataset (it takes long time...)\n",
    "# !python3 download_speech_corpus.py downloader_conf/vcc2018.yml"
   ]
  },
  {
   "cell_type": "markdown",
   "metadata": {
    "colab_type": "text",
    "id": "TusmFxjXU5NI",
    "slideshow": {
     "slide_type": "slide"
    }
   },
   "source": [
    "# Step0:  Initialization\n",
    "Run ```ininitialize.py``` in ```sprocket/example``` directory.\n",
    "\n",
    "### Options for ```initialize.py```\n",
    "- -1: Generate list file\n",
    "- -2: Generate yml files (speaker- and pair-dependent)\n",
    "- -3: Generate histograms\n",
    "- \\<source_speaker\\>: Source speaker label (e.g., VCC2SM1)\n",
    "- \\<target_speaker\\>: Target speaker label (e.g., VCC2TF1)\n",
    "- \\<sampling_frequency\\>: Sampling frequency of audio files (VCC2016 for 16000, and VCC2018 for 22050)"
   ]
  },
  {
   "cell_type": "markdown",
   "metadata": {
    "slideshow": {
     "slide_type": "slide"
    }
   },
   "source": [
    "### Run ```initialize.py``` to generate list and yml files\n",
    "- List file (```list/*.list```): Line up path of wav files without extention in each training and evaluation set\n",
    "- Speaker-dependent yml file (```conf/speaker/*.yml```): Define speaker-dependent parameters\n",
    "- Pair-dependent yml file (```conf/pair/*.yml```): Define pair-dependent parameters"
   ]
  },
  {
   "cell_type": "code",
   "execution_count": null,
   "metadata": {
    "colab": {
     "base_uri": "https://localhost:8080/",
     "height": 1000
    },
    "colab_type": "code",
    "executionInfo": {
     "elapsed": 27,
     "status": "ok",
     "timestamp": 1566262367215,
     "user": {
      "displayName": "Kazuhiro Kobayashi",
      "photoUrl": "",
      "userId": "07649292297537623984"
     },
     "user_tz": -540
    },
    "id": "r1bvVHXOU8Ma",
    "jupyter": {
     "outputs_hidden": true
    },
    "outputId": "c15d4c32-5c93-4f49-ce84-c4c79fbf742d"
   },
   "outputs": [],
   "source": [
    "# python3 initialize.py -1 -2 <source_speaker> <target_speaker> <sampling_frequency>\n",
    "!python3 initialize.py -1 -2 VCC2SM1 VCC2TF1 22050"
   ]
  },
  {
   "cell_type": "markdown",
   "metadata": {
    "slideshow": {
     "slide_type": "slide"
    }
   },
   "source": [
    "### Modify list files to specify training and evaluation set\n",
    "We set followings in this tutorial:\n",
    "- Use 20 utterances for training\n",
    "- Use 5 utterances for evaluation\n",
    "\n",
    "Also, in general\n",
    "- The length and order of training list files between source and target speaker must be same. "
   ]
  },
  {
   "cell_type": "code",
   "execution_count": null,
   "metadata": {
    "jupyter": {
     "outputs_hidden": true
    }
   },
   "outputs": [],
   "source": [
    "os.chdir(\"list\")\n",
    "!echo \"$(head -n 20 VCC2SM1_train.list)\" > VCC2SM1_train.list\n",
    "!echo \"$(head -n 20 VCC2TF1_train.list)\" > VCC2TF1_train.list\n",
    "!echo \"$(tail -n 5 VCC2SM1_eval.list)\" > VCC2SM1_eval.list\n",
    "!echo \"$(tail -n 5 VCC2TF1_eval.list)\" > VCC2TF1_eval.list\n",
    "!echo \"Training set\"\n",
    "!paste VCC2SM1_train.list VCC2TF1_train.list\n",
    "!echo \"Evaluation set\"\n",
    "!paste VCC2SM1_eval.list VCC2TF1_eval.list\n",
    "os.chdir(egs_dir)"
   ]
  },
  {
   "cell_type": "markdown",
   "metadata": {
    "slideshow": {
     "slide_type": "slide"
    }
   },
   "source": [
    "## Set speaker-dependent and pair-dependent parameters\n",
    "### Representative parameters\n",
    "- Speaker-dependent\n",
    "    - F0 range\n",
    "    - Power threshold\n",
    "- Pair-dependent\n",
    "    - \\# of mixture components\n",
    "    - \\# of iterations\n",
    "        \n",
    "### Generate F0 histogram\n",
    "Run ```initializa.py``` with ```-3``` option\n",
    "- F0 and npow extraction\n",
    "- Create their histograms"
   ]
  },
  {
   "cell_type": "code",
   "execution_count": null,
   "metadata": {},
   "outputs": [],
   "source": [
    "!python3 initialize.py -3 VCC2SM1 VCC2TF1 22050"
   ]
  },
  {
   "cell_type": "markdown",
   "metadata": {
    "slideshow": {
     "slide_type": "slide"
    }
   },
   "source": [
    "<div align=\"center\">\n",
    "<img src=\"sprocket_png/image0021.png\" width=85%>\n",
    "<div align=\"center\">"
   ]
  },
  {
   "cell_type": "markdown",
   "metadata": {
    "slideshow": {
     "slide_type": "slide"
    }
   },
   "source": [
    "### Show F0 historgram"
   ]
  },
  {
   "cell_type": "code",
   "execution_count": null,
   "metadata": {
    "jupyter": {
     "outputs_hidden": true
    }
   },
   "outputs": [],
   "source": [
    "!find conf/figure | grep f0histogram.png"
   ]
  },
  {
   "cell_type": "code",
   "execution_count": null,
   "metadata": {
    "jupyter": {
     "outputs_hidden": true
    },
    "slideshow": {
     "slide_type": "slide"
    }
   },
   "outputs": [],
   "source": [
    "from IPython.display import Image, display_png\n",
    "print(\"VCC2SM1\")\n",
    "display_png(Image(\"conf/figure/VCC2SM1_f0histogram.png\"))\n",
    "print(\"VCC2TF1\")\n",
    "display_png(Image(\"conf/figure/VCC2TF1_f0histogram.png\"))"
   ]
  },
  {
   "cell_type": "markdown",
   "metadata": {
    "slideshow": {
     "slide_type": "slide"
    }
   },
   "source": [
    "### Modify speaker-dependent yml files\n",
    "- VCC2SM1:\n",
    "    - Minimum F0 range: 50\n",
    "    - Maximum F0 range: 190\n",
    "- VCC2TF1:\n",
    "    - Minimum F0 range: 140\n",
    "    - Maximum F0 range: 320"
   ]
  },
  {
   "cell_type": "code",
   "execution_count": null,
   "metadata": {
    "jupyter": {
     "outputs_hidden": true
    },
    "slideshow": {
     "slide_type": "-"
    }
   },
   "outputs": [],
   "source": [
    "os.chdir('conf/speaker')\n",
    "import yaml\n",
    "with open('VCC2SM1.yml', 'r') as fp:\n",
    "    yml = yaml.load(fp, Loader=yaml.BaseLoader)\n",
    "    yml['f0']['minf0'] = 50\n",
    "    yml['f0']['maxf0'] = 190\n",
    "with open('VCC2SM1.yml', 'w') as fp:\n",
    "    yaml.dump(yml, fp)\n",
    "with open('VCC2TF1.yml', 'r') as fp:\n",
    "    yml = yaml.load(fp, Loader=yaml.BaseLoader)\n",
    "    yml['f0']['minf0'] = 140\n",
    "    yml['f0']['maxf0'] = 320\n",
    "with open('VCC2TF1.yml', 'w') as fp:\n",
    "    yaml.dump(yml, fp)\n",
    "\n",
    "# confirm\n",
    "!cat VCC2SM1.yml VCC2TF1.yml | grep f0\n",
    "os.chdir(egs_dir)"
   ]
  },
  {
   "cell_type": "markdown",
   "metadata": {
    "slideshow": {
     "slide_type": "slide"
    }
   },
   "source": [
    "### Modify pair-dependent yml file\n",
    "\n",
    "Set following parameters in this Tutorial\n",
    "\n",
    "- Covariance type to block_diag\n",
    "- \\# of mixture components for mel-cepstrum GMM to 16\n",
    "- \\# of iteration to 2"
   ]
  },
  {
   "cell_type": "code",
   "execution_count": 1,
   "metadata": {},
   "outputs": [
    {
     "ename": "NameError",
     "evalue": "name 'os' is not defined",
     "output_type": "error",
     "traceback": [
      "\u001b[0;31m---------------------------------------------------------------------------\u001b[0m",
      "\u001b[0;31mNameError\u001b[0m                                 Traceback (most recent call last)",
      "\u001b[0;32m<ipython-input-1-77af2b22d89f>\u001b[0m in \u001b[0;36m<module>\u001b[0;34m\u001b[0m\n\u001b[0;32m----> 1\u001b[0;31m \u001b[0mos\u001b[0m\u001b[0;34m.\u001b[0m\u001b[0mchdir\u001b[0m\u001b[0;34m(\u001b[0m\u001b[0;34m'conf/pair'\u001b[0m\u001b[0;34m)\u001b[0m\u001b[0;34m\u001b[0m\u001b[0;34m\u001b[0m\u001b[0m\n\u001b[0m\u001b[1;32m      2\u001b[0m \u001b[0;32mimport\u001b[0m \u001b[0myaml\u001b[0m\u001b[0;34m\u001b[0m\u001b[0;34m\u001b[0m\u001b[0m\n\u001b[1;32m      3\u001b[0m \u001b[0;32mwith\u001b[0m \u001b[0mopen\u001b[0m\u001b[0;34m(\u001b[0m\u001b[0;34m'VCC2SM1-VCC2TF1.yml'\u001b[0m\u001b[0;34m,\u001b[0m \u001b[0;34m'r'\u001b[0m\u001b[0;34m)\u001b[0m \u001b[0;32mas\u001b[0m \u001b[0mfp\u001b[0m\u001b[0;34m:\u001b[0m\u001b[0;34m\u001b[0m\u001b[0;34m\u001b[0m\u001b[0m\n\u001b[1;32m      4\u001b[0m     \u001b[0myml\u001b[0m \u001b[0;34m=\u001b[0m \u001b[0myaml\u001b[0m\u001b[0;34m.\u001b[0m\u001b[0mload\u001b[0m\u001b[0;34m(\u001b[0m\u001b[0mfp\u001b[0m\u001b[0;34m,\u001b[0m \u001b[0mLoader\u001b[0m\u001b[0;34m=\u001b[0m\u001b[0myaml\u001b[0m\u001b[0;34m.\u001b[0m\u001b[0mBaseLoader\u001b[0m\u001b[0;34m)\u001b[0m\u001b[0;34m\u001b[0m\u001b[0;34m\u001b[0m\u001b[0m\n\u001b[1;32m      5\u001b[0m     \u001b[0myml\u001b[0m\u001b[0;34m[\u001b[0m\u001b[0;34m'GMM'\u001b[0m\u001b[0;34m]\u001b[0m\u001b[0;34m[\u001b[0m\u001b[0;34m'mcep'\u001b[0m\u001b[0;34m]\u001b[0m\u001b[0;34m[\u001b[0m\u001b[0;34m'covtype'\u001b[0m\u001b[0;34m]\u001b[0m \u001b[0;34m=\u001b[0m \u001b[0;34m'block_diag'\u001b[0m\u001b[0;34m\u001b[0m\u001b[0;34m\u001b[0m\u001b[0m\n",
      "\u001b[0;31mNameError\u001b[0m: name 'os' is not defined"
     ]
    }
   ],
   "source": [
    "os.chdir('conf/pair')\n",
    "import yaml\n",
    "with open('VCC2SM1-VCC2TF1.yml', 'r') as fp:\n",
    "    yml = yaml.load(fp, Loader=yaml.BaseLoader)\n",
    "    yml['GMM']['mcep']['covtype'] = 'block_diag'\n",
    "    yml['GMM']['mcep']['n_mix'] = 16\n",
    "    yml['jnt']['n_iter'] = 2\n",
    "\n",
    "# write yml file\n",
    "with open('VCC2SM1-VCC2TF1.yml', 'w') as fp:\n",
    "    yaml.dump(yml, fp)\n",
    "!cat VCC2SM1-VCC2TF1.yml\n",
    "os.chdir(egs_dir)"
   ]
  },
  {
   "cell_type": "markdown",
   "metadata": {
    "slideshow": {
     "slide_type": "slide"
    }
   },
   "source": [
    "<div align=\"center\">\n",
    "<img src=\"sprocket_png/image0022.png\" width=85%>\n",
    "<div align=\"center\">"
   ]
  },
  {
   "cell_type": "markdown",
   "metadata": {
    "slideshow": {
     "slide_type": "slide"
    }
   },
   "source": [
    "# Step1: Feature extraction\n",
    "After initialization, the main process in sprocket will be ran by ```run_sprocket.py``\n",
    "\n",
    "## Options for ```run_sprocket.py```\n",
    "- -1: Acoustic feature extraction\n",
    "- -2: Estimate speaker-dependent statistics\n",
    "- -3: Estimate alignment\n",
    "- -4: Train GMM\n",
    "- -5: Conversion\n",
    "- \\<source_speaker\\>: Source speaker label (e.g., VCC2SM1)\n",
    "- \\<target_speaker\\>: Target speaker label (e.g., VCC2TF1)\n",
    "\n",
    "## Extract acoustic feature vector in each speaker"
   ]
  },
  {
   "cell_type": "code",
   "execution_count": null,
   "metadata": {
    "jupyter": {
     "outputs_hidden": true
    }
   },
   "outputs": [],
   "source": [
    "# python3 run_sprocket -1 <source_speaker> <target_speaker>\n",
    "!python3 run_sprocket.py -1 VCC2SM1 VCC2TF1\n",
    "!echo \"Done.\""
   ]
  },
  {
   "cell_type": "markdown",
   "metadata": {
    "slideshow": {
     "slide_type": "slide"
    }
   },
   "source": [
    "<div align=\"center\">\n",
    "<img src=\"sprocket_png/image0024.png\" width=85%>\n",
    "<div align=\"center\">"
   ]
  },
  {
   "cell_type": "markdown",
   "metadata": {
    "slideshow": {
     "slide_type": "slide"
    }
   },
   "source": [
    "## Confirm feature vector\n",
    "### Directory structure"
   ]
  },
  {
   "cell_type": "code",
   "execution_count": null,
   "metadata": {
    "jupyter": {
     "outputs_hidden": true
    }
   },
   "outputs": [],
   "source": [
    "!tree -L 4 data/pair/VCC2SM1-VCC2TF1/h5"
   ]
  },
  {
   "cell_type": "markdown",
   "metadata": {
    "slideshow": {
     "slide_type": "slide"
    }
   },
   "source": [
    "### Look inside of h5 file"
   ]
  },
  {
   "cell_type": "code",
   "execution_count": null,
   "metadata": {
    "jupyter": {
     "outputs_hidden": true
    }
   },
   "outputs": [],
   "source": [
    "!h5ls data/pair/VCC2SM1-VCC2TF1/h5/VCC2SM1/10001.h5"
   ]
  },
  {
   "cell_type": "markdown",
   "metadata": {},
   "source": [
    "- codeap: Coded aperiodicity\n",
    "- f0: Fundamental frequency\n",
    "- mcep: Mel-cepstrum\n",
    "- npow: Power sequence"
   ]
  },
  {
   "cell_type": "markdown",
   "metadata": {
    "slideshow": {
     "slide_type": "slide"
    }
   },
   "source": [
    "<div align=\"center\">\n",
    "<img src=\"sprocket_png/image0025.png\" width=85%>\n",
    "<div align=\"center\">"
   ]
  },
  {
   "cell_type": "markdown",
   "metadata": {
    "slideshow": {
     "slide_type": "slide"
    }
   },
   "source": [
    "# Step2: Speaker-dependent statisitcs estimation\n",
    "\n",
    "Estimate speaker-dependent statistics such as F0 and GV"
   ]
  },
  {
   "cell_type": "code",
   "execution_count": null,
   "metadata": {
    "jupyter": {
     "outputs_hidden": true
    }
   },
   "outputs": [],
   "source": [
    "!python3 run_sprocket.py -2 VCC2SM1 VCC2TF1\n",
    "!echo \"Done.\""
   ]
  },
  {
   "cell_type": "markdown",
   "metadata": {
    "slideshow": {
     "slide_type": "slide"
    }
   },
   "source": [
    "<div align=\"center\">\n",
    "<img src=\"sprocket_png/image0027.png\" width=85%>\n",
    "<div align=\"center\">"
   ]
  },
  {
   "cell_type": "markdown",
   "metadata": {
    "slideshow": {
     "slide_type": "slide"
    }
   },
   "source": [
    "<div align=\"center\">\n",
    "<img src=\"sprocket_png/image0028.png\" width=85%>\n",
    "<div align=\"center\">"
   ]
  },
  {
   "cell_type": "markdown",
   "metadata": {
    "slideshow": {
     "slide_type": "slide"
    }
   },
   "source": [
    "# Step3: Time-warping function extraction\n",
    "Estimate alignment between source and target feature vector"
   ]
  },
  {
   "cell_type": "code",
   "execution_count": null,
   "metadata": {
    "jupyter": {
     "outputs_hidden": true
    }
   },
   "outputs": [],
   "source": [
    "!python3 run_sprocket.py -3 VCC2SM1 VCC2TF1\n",
    "!echo \"Done.\""
   ]
  },
  {
   "cell_type": "markdown",
   "metadata": {
    "slideshow": {
     "slide_type": "slide"
    }
   },
   "source": [
    "<div align=\"center\">\n",
    "<img src=\"sprocket_png/image0030.png\" width=85%>\n",
    "<div align=\"center\">"
   ]
  },
  {
   "cell_type": "markdown",
   "metadata": {
    "slideshow": {
     "slide_type": "slide"
    }
   },
   "source": [
    "## Confirm output time-warping function"
   ]
  },
  {
   "cell_type": "code",
   "execution_count": null,
   "metadata": {
    "jupyter": {
     "outputs_hidden": true
    }
   },
   "outputs": [],
   "source": [
    "!tree -L 3 data/pair/VCC2SM1-VCC2TF1/twf"
   ]
  },
  {
   "cell_type": "code",
   "execution_count": null,
   "metadata": {
    "jupyter": {
     "outputs_hidden": true
    },
    "slideshow": {
     "slide_type": "slide"
    }
   },
   "outputs": [],
   "source": [
    "import numpy as np\n",
    "%matplotlib inline\n",
    "import matplotlib.pyplot as plt\n",
    "from sprocket.util import HDF5\n",
    "\n",
    "# read twf from hdf5 file\n",
    "h5 = HDF5('data/pair/VCC2SM1-VCC2TF1/twf/it2_10001.h5', 'a')\n",
    "twf = h5.read('twf')\n",
    "h5.close()\n",
    "\n",
    "# plot twf\n",
    "twf_mat = np.zeros((np.max(twf[1]) + 1, np.max(twf[0]) + 1))\n",
    "twf_mat[twf[1], twf[0]] = 1\n",
    "plt.figure(size=(16, 16))\n",
    "plt.xlabel('Source voice')\n",
    "plt.ylabel('Targert voice')\n",
    "plt.imshow(twf_mat[:300, :300], origin='lower')\n",
    "plt.show()\n"
   ]
  },
  {
   "cell_type": "markdown",
   "metadata": {
    "slideshow": {
     "slide_type": "slide"
    }
   },
   "source": [
    "<div align=\"center\">\n",
    "<img src=\"sprocket_png/image0031.png\" width=85%>\n",
    "<div align=\"center\">"
   ]
  },
  {
   "cell_type": "markdown",
   "metadata": {
    "slideshow": {
     "slide_type": "slide"
    }
   },
   "source": [
    "# Step4: GMM training\n",
    "Train GMM based on source and target feature vector and time-warping function"
   ]
  },
  {
   "cell_type": "code",
   "execution_count": null,
   "metadata": {
    "jupyter": {
     "outputs_hidden": true
    }
   },
   "outputs": [],
   "source": [
    "!python3 run_sprocket.py -4 VCC2SM1 VCC2TF1\n",
    "!echo \"Done.\""
   ]
  },
  {
   "cell_type": "markdown",
   "metadata": {
    "slideshow": {
     "slide_type": "slide"
    }
   },
   "source": [
    "<div align=\"center\">\n",
    "<img src=\"sprocket_png/image0033.png\" width=85%>\n",
    "<div align=\"center\">"
   ]
  },
  {
   "cell_type": "markdown",
   "metadata": {
    "slideshow": {
     "slide_type": "slide"
    }
   },
   "source": [
    "<div align=\"center\">\n",
    "<img src=\"sprocket_png/image0034.png\" width=85%>\n",
    "<div align=\"center\">"
   ]
  },
  {
   "cell_type": "markdown",
   "metadata": {
    "slideshow": {
     "slide_type": "slide"
    }
   },
   "source": [
    "# Step5: Conversion"
   ]
  },
  {
   "cell_type": "markdown",
   "metadata": {
    "slideshow": {
     "slide_type": "slide"
    }
   },
   "source": [
    "<div align=\"center\">\n",
    "<img src=\"sprocket_png/image0034.png\" width=85%>\n",
    "<div align=\"center\">"
   ]
  },
  {
   "cell_type": "code",
   "execution_count": null,
   "metadata": {
    "jupyter": {
     "outputs_hidden": true
    },
    "slideshow": {
     "slide_type": "slide"
    }
   },
   "outputs": [],
   "source": [
    "!python3 run_sprocket.py -5 VCC2SM1 VCC2TF1\n",
    "!echo \"Done.\""
   ]
  },
  {
   "cell_type": "markdown",
   "metadata": {
    "slideshow": {
     "slide_type": "slide"
    }
   },
   "source": [
    "<div align=\"center\">\n",
    "<img src=\"sprocket_png/image0036.png\" width=85%>\n",
    "<div align=\"center\">"
   ]
  },
  {
   "cell_type": "markdown",
   "metadata": {
    "slideshow": {
     "slide_type": "slide"
    }
   },
   "source": [
    "<div align=\"center\">\n",
    "<img src=\"sprocket_png/image0037.png\" width=85%>\n",
    "<div align=\"center\">"
   ]
  },
  {
   "cell_type": "code",
   "execution_count": null,
   "metadata": {
    "jupyter": {
     "outputs_hidden": true
    },
    "slideshow": {
     "slide_type": "slide"
    }
   },
   "outputs": [],
   "source": [
    "import IPython.display\n",
    "print(\"Source voice\")\n",
    "IPython.display.display(IPython.display.Audio(\"data/wav/VCC2SM1/30001.wav\"))\n",
    "print(\"Target voice\")\n",
    "IPython.display.display(IPython.display.Audio(\"data/wav/VCC2TF1/30001.wav\"))\n",
    "print(\"Converted by VC\")\n",
    "IPython.display.display(IPython.display.Audio(\"data/pair/VCC2SM1-VCC2TF1/test/VCC2SM1/30001_VC.wav\"))\n",
    "print(\"Converted by DIFFVC\")\n",
    "IPython.display.display(IPython.display.Audio(\"data/pair/VCC2SM1-VCC2TF1/test/VCC2SM1/30001_DIFFVC.wav\"))"
   ]
  },
  {
   "cell_type": "markdown",
   "metadata": {
    "slideshow": {
     "slide_type": "slide"
    }
   },
   "source": [
    "<div align=\"center\">\n",
    "<img src=\"sprocket_png/image0039.png\" width=85%>\n",
    "<div align=\"center\">"
   ]
  },
  {
   "cell_type": "markdown",
   "metadata": {
    "slideshow": {
     "slide_type": "slide"
    }
   },
   "source": [
    "<div align=\"center\">\n",
    "<img src=\"sprocket_png/image0040.png\" width=85%>\n",
    "<div align=\"center\">"
   ]
  }
 ],
 "metadata": {
  "celltoolbar": "Slideshow",
  "colab": {
   "collapsed_sections": [],
   "name": "ITTutorial.ipynb",
   "provenance": [],
   "toc_visible": true,
   "version": "0.3.2"
  },
  "kernelspec": {
   "display_name": "Python 3",
   "language": "python",
   "name": "python3"
  },
  "language_info": {
   "codemirror_mode": {
    "name": "ipython",
    "version": 3
   },
   "file_extension": ".py",
   "mimetype": "text/x-python",
   "name": "python",
   "nbconvert_exporter": "python",
   "pygments_lexer": "ipython3",
   "version": "3.7.4"
  }
 },
 "nbformat": 4,
 "nbformat_minor": 4
}
